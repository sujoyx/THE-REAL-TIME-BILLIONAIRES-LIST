{
 "cells": [
  {
   "cell_type": "code",
   "execution_count": 39,
   "id": "28b0c2ae",
   "metadata": {
    "scrolled": true
   },
   "outputs": [],
   "source": [
    "from bs4 import BeautifulSoup\n",
    "import requests\n",
    "import time\n",
    "import openpyxl\n",
    "from selenium import webdriver\n",
    "from webdriver_manager.chrome import ChromeDriverManager"
   ]
  },
  {
   "cell_type": "code",
   "execution_count": 45,
   "id": "ef67ba4c",
   "metadata": {
    "scrolled": true
   },
   "outputs": [
    {
     "name": "stderr",
     "output_type": "stream",
     "text": [
      "C:\\Users\\SUJOY\\AppData\\Local\\Temp\\ipykernel_12996\\4216656908.py:7: DeprecationWarning: executable_path has been deprecated, please pass in a Service object\n",
      "  browser = driver = webdriver.Chrome(ChromeDriverManager().install())\n"
     ]
    }
   ],
   "source": [
    "excel= openpyxl.Workbook()\n",
    "sheet= excel.active\n",
    "sheet.append(['Rank', 'Name', 'Net Worth', 'Country', 'Industry'])\n",
    "\n",
    "\n",
    "url = 'https://www.bloomberg.com/billionaires/'\n",
    "browser = driver = webdriver.Chrome(ChromeDriverManager().install())\n",
    "browser.get(url)\n",
    "time.sleep(3)\n",
    "soup= BeautifulSoup(browser.page_source, 'html.parser')\n",
    "browser.close()\n",
    "\n",
    "lists= soup.find_all('div', class_='table-row')\n",
    "for list in lists:\n",
    "    rank= list.find('div', class_=\"table-cell t-rank\").get_text(strip=True)\n",
    "    name= list.find('div', class_=\"table-cell t-name\").a.get_text(strip=True)\n",
    "    net_worth= list.find('div', class_=\"table-cell active t-nw\").get_text(strip=True)\n",
    "    country= list.find('div', class_=\"table-cell t-country\").get_text(strip=True)\n",
    "    industry= list.find('div', class_=\"table-cell t-industry\").get_text(strip=True)\n",
    "    \n",
    "    info=[rank, name, net_worth, country, industry]\n",
    "    sheet.append(info)\n",
    "\n",
    "excel.save('Top 500 Rich Person.xlsx')  "
   ]
  },
  {
   "cell_type": "code",
   "execution_count": null,
   "id": "b32932e3",
   "metadata": {},
   "outputs": [],
   "source": []
  }
 ],
 "metadata": {
  "kernelspec": {
   "display_name": "Python 3 (ipykernel)",
   "language": "python",
   "name": "python3"
  },
  "language_info": {
   "codemirror_mode": {
    "name": "ipython",
    "version": 3
   },
   "file_extension": ".py",
   "mimetype": "text/x-python",
   "name": "python",
   "nbconvert_exporter": "python",
   "pygments_lexer": "ipython3",
   "version": "3.9.12"
  }
 },
 "nbformat": 4,
 "nbformat_minor": 5
}
